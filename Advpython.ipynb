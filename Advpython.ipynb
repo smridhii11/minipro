{
  "nbformat": 4,
  "nbformat_minor": 0,
  "metadata": {
    "colab": {
      "provenance": [],
      "authorship_tag": "ABX9TyO6zkO9Rp6tLlPNO0vcqbwR",
      "include_colab_link": true
    },
    "kernelspec": {
      "name": "python3",
      "display_name": "Python 3"
    },
    "language_info": {
      "name": "python"
    }
  },
  "cells": [
    {
      "cell_type": "markdown",
      "metadata": {
        "id": "view-in-github",
        "colab_type": "text"
      },
      "source": [
        "<a href=\"https://colab.research.google.com/github/smridhii11/minipro/blob/main/Advpython.ipynb\" target=\"_parent\"><img src=\"https://colab.research.google.com/assets/colab-badge.svg\" alt=\"Open In Colab\"/></a>"
      ]
    },
    {
      "cell_type": "markdown",
      "source": [
        "#**Q1**"
      ],
      "metadata": {
        "id": "tpdSWs8RSayI"
      }
    },
    {
      "cell_type": "code",
      "source": [
        "import random\n",
        "import string\n",
        "\n",
        "def generate_random_string(length=10):\n",
        "    return ''.join(random.choices(string.ascii_letters + string.digits, k=length))\n",
        "\n",
        "def create_file(file_name=\"random_strings.txt\", num_lines=1000):\n",
        "    with open(file_name, \"w\") as f:\n",
        "        for _ in range(num_lines):\n",
        "            f.write(generate_random_string() + \"\\n\")\n",
        "\n",
        "create_file()\n",
        "print(\"File 'random_strings.txt' created with 1000 random lines.\")"
      ],
      "metadata": {
        "colab": {
          "base_uri": "https://localhost:8080/"
        },
        "id": "oPw3tVZyShDk",
        "outputId": "a891b85c-a21b-4244-e2a0-6f1afd29d78e"
      },
      "execution_count": null,
      "outputs": [
        {
          "output_type": "stream",
          "name": "stdout",
          "text": [
            "File 'random_strings.txt' created with 1000 random lines.\n"
          ]
        }
      ]
    },
    {
      "cell_type": "markdown",
      "source": [
        "#**Q2**"
      ],
      "metadata": {
        "id": "_XbjOpMuTKiW"
      }
    },
    {
      "cell_type": "code",
      "source": [
        "import random\n",
        "import string\n",
        "\n",
        "def generate_random_string(length=50):\n",
        "    return ''.join(random.choices(string.ascii_letters + string.digits, k=length))\n",
        "\n",
        "def create_large_file(file_name=\"large_random_strings.txt\", target_size=5 * 1024 * 1024):\n",
        "    with open(file_name, \"w\") as f:\n",
        "        written_bytes = 0\n",
        "        while written_bytes < target_size:\n",
        "            random_str = generate_random_string()\n",
        "            f.write(random_str + \"\\n\")\n",
        "            written_bytes += len(random_str) + 1  # Include newline character\n",
        "\n",
        "create_large_file()\n",
        "print(\"File 'large_random_strings.txt' created with approximately 5 MB size.\")"
      ],
      "metadata": {
        "colab": {
          "base_uri": "https://localhost:8080/"
        },
        "id": "Ns6BlgRgTLAm",
        "outputId": "06c557b1-68bb-4997-f5ed-b7dd76b75356"
      },
      "execution_count": null,
      "outputs": [
        {
          "output_type": "stream",
          "name": "stdout",
          "text": [
            "File 'large_random_strings.txt' created with approximately 5 MB size.\n"
          ]
        }
      ]
    },
    {
      "cell_type": "markdown",
      "source": [
        "#**Q3**"
      ],
      "metadata": {
        "id": "XJIeUAf8TUO7"
      }
    },
    {
      "cell_type": "code",
      "source": [
        "import random\n",
        "import string\n",
        "\n",
        "def generate_random_string(length=50):\n",
        "    return ''.join(random.choices(string.ascii_letters + string.digits, k=length))\n",
        "\n",
        "def create_multiple_files(num_files=10, file_size=5 * 1024 * 1024):\n",
        "    for i in range(1, num_files + 1):\n",
        "        file_name = f\"random_strings_{i}.txt\"\n",
        "        with open(file_name, \"w\") as f:\n",
        "            written_bytes = 0\n",
        "            while written_bytes < file_size:\n",
        "                random_str = generate_random_string()\n",
        "                f.write(random_str + \"\\n\")\n",
        "                written_bytes += len(random_str) + 1  # Include newline character\n",
        "\n",
        "        print(f\"Created {file_name} ({file_size // (1024 * 1024)} MB)\")\n",
        "\n",
        "create_multiple_files()"
      ],
      "metadata": {
        "colab": {
          "base_uri": "https://localhost:8080/"
        },
        "id": "Izd4I8l3Ua7l",
        "outputId": "2d86ae80-ad0d-4dc1-b7aa-4cf28d4f8166"
      },
      "execution_count": null,
      "outputs": [
        {
          "output_type": "stream",
          "name": "stdout",
          "text": [
            "Created random_strings_1.txt (5 MB)\n",
            "Created random_strings_2.txt (5 MB)\n",
            "Created random_strings_3.txt (5 MB)\n",
            "Created random_strings_4.txt (5 MB)\n",
            "Created random_strings_5.txt (5 MB)\n",
            "Created random_strings_6.txt (5 MB)\n",
            "Created random_strings_7.txt (5 MB)\n",
            "Created random_strings_8.txt (5 MB)\n",
            "Created random_strings_9.txt (5 MB)\n",
            "Created random_strings_10.txt (5 MB)\n"
          ]
        }
      ]
    },
    {
      "cell_type": "code",
      "source": [],
      "metadata": {
        "id": "RynJmz10rs-I"
      },
      "execution_count": null,
      "outputs": []
    }
  ]
}